{
 "cells": [
  {
   "cell_type": "code",
   "execution_count": null,
   "metadata": {},
   "outputs": [],
   "source": [
    "### Hej Aleksander ###"
   ]
  },
  {
   "cell_type": "code",
   "execution_count": 1,
   "metadata": {},
   "outputs": [
    {
     "name": "stdout",
     "output_type": "stream",
     "text": [
      "hi Aleksander Sønder Kirsblom Salling\n"
     ]
    }
   ],
   "source": [
    "print(\"hi Aleksander Sønder Kirsblom Salling\")"
   ]
  },
  {
   "cell_type": "code",
   "execution_count": 8,
   "metadata": {},
   "outputs": [],
   "source": [
    "# using this image:\n",
    "from PIL import Image\n",
    "def print_image(image_path):\n",
    "    try:\n",
    "        img = Image.open(image_path)\n",
    "        img.show()\n",
    "    except Exception as e:\n",
    "        print(\"An error occurred:\", e)\n",
    "image_path = \"./images/image_1.png\"\n",
    "print_image(image_path)\n"
   ]
  },
  {
   "cell_type": "code",
   "execution_count": null,
   "metadata": {},
   "outputs": [],
   "source": [
    "import numpy as np\n",
    "# Step 1: Load Image\n",
    "def load_image(file_path):\n",
    "    # Use NumPy to load the image from file_path\n",
    "    ..."
   ]
  },
  {
   "cell_type": "code",
   "execution_count": null,
   "metadata": {},
   "outputs": [],
   "source": [
    "# Step 2: Preprocess Image\n",
    "def preprocess_image(image):\n",
    "    # Implement preprocessing steps if necessary\n",
    "    ..."
   ]
  },
  {
   "cell_type": "code",
   "execution_count": null,
   "metadata": {},
   "outputs": [],
   "source": [
    "# Step 3: Extract Features\n",
    "def extract_features(image):\n",
    "    # Implement feature extraction using NumPy operations\n",
    "    ..."
   ]
  },
  {
   "cell_type": "code",
   "execution_count": null,
   "metadata": {},
   "outputs": [],
   "source": [
    "# Step 4: Define Classifiers\n",
    "def define_classifiers():\n",
    "    # Define classifiers for small goal, big goal, and table tennis balls\n",
    "    ..."
   ]
  },
  {
   "cell_type": "code",
   "execution_count": null,
   "metadata": {},
   "outputs": [],
   "source": [
    "# Step 5: Predictions\n",
    "def make_predictions(features, classifiers):\n",
    "    # Use classifiers to make predictions on the input features\n",
    "    ..."
   ]
  },
  {
   "cell_type": "code",
   "execution_count": null,
   "metadata": {},
   "outputs": [],
   "source": [
    "# Step 6: Postprocess Predictions\n",
    "def postprocess_predictions(predictions):\n",
    "    # Refine predictions (e.g., thresholding, non-maximum suppression)\n",
    "    ..."
   ]
  },
  {
   "cell_type": "code",
   "execution_count": null,
   "metadata": {},
   "outputs": [],
   "source": [
    "# Step 7: Visualize Results\n",
    "def visualize_results(image, predictions):\n",
    "    # Visualize detected objects on the original image\n",
    "    ..."
   ]
  },
  {
   "cell_type": "code",
   "execution_count": null,
   "metadata": {},
   "outputs": [],
   "source": [
    "# Main function\n",
    "def main():\n",
    "    # Step 1: Load Image\n",
    "    image = load_image(\"path/to/image.jpg\")\n",
    "\n",
    "    # Step 2: Preprocess Image\n",
    "    image = preprocess_image(image)\n",
    "\n",
    "    # Step 3: Extract Features\n",
    "    features = extract_features(image)\n",
    "\n",
    "    # Step 4: Define Classifiers\n",
    "    classifiers = define_classifiers()\n",
    "\n",
    "    # Step 5: Predictions\n",
    "    predictions = make_predictions(features, classifiers)\n",
    "\n",
    "    # Step 6: Postprocess Predictions\n",
    "    refined_predictions = postprocess_predictions(predictions)\n",
    "\n",
    "    # Step 7: Visualize Results\n",
    "    visualize_results(image, refined_predictions)\n",
    "\n",
    "if __name__ == \"__main__\":\n",
    "    main()\n"
   ]
  },
  {
   "cell_type": "code",
   "execution_count": null,
   "metadata": {},
   "outputs": [],
   "source": [
    "\n",
    "\n",
    "# Step 3: Extract Features\n",
    "def extract_features(image):\n",
    "    # Implement feature extraction using NumPy operations\n",
    "    ...\n",
    "\n",
    "# Step 4: Define Classifiers\n",
    "def define_classifiers():\n",
    "    # Define classifiers for small goal, big goal, and table tennis balls\n",
    "    ...\n",
    "\n",
    "# Step 5: Predictions\n",
    "def make_predictions(features, classifiers):\n",
    "    # Use classifiers to make predictions on the input features\n",
    "    ...\n",
    "\n",
    "# Step 6: Postprocess Predictions\n",
    "def postprocess_predictions(predictions):\n",
    "    # Refine predictions (e.g., thresholding, non-maximum suppression)\n",
    "    ...\n",
    "\n",
    "# Step 7: Visualize Results\n",
    "def visualize_results(image, predictions):\n",
    "    # Visualize detected objects on the original image\n",
    "    ...\n",
    "\n",
    "# Main function\n",
    "def main():\n",
    "    # Step 1: Load Image\n",
    "    image = load_image(\"path/to/image.jpg\")\n",
    "\n",
    "    # Step 2: Preprocess Image\n",
    "    image = preprocess_image(image)\n",
    "\n",
    "    # Step 3: Extract Features\n",
    "    features = extract_features(image)\n",
    "\n",
    "    # Step 4: Define Classifiers\n",
    "    classifiers = define_classifiers()\n",
    "\n",
    "    # Step 5: Predictions\n",
    "    predictions = make_predictions(features, classifiers)\n",
    "\n",
    "    # Step 6: Postprocess Predictions\n",
    "    refined_predictions = postprocess_predictions(predictions)\n",
    "\n",
    "    # Step 7: Visualize Results\n",
    "    visualize_results(image, refined_predictions)\n",
    "\n",
    "if __name__ == \"__main__\":\n",
    "    main()\n"
   ]
  }
 ],
 "metadata": {
  "kernelspec": {
   "display_name": "base",
   "language": "python",
   "name": "python3"
  },
  "language_info": {
   "codemirror_mode": {
    "name": "ipython",
    "version": 3
   },
   "file_extension": ".py",
   "mimetype": "text/x-python",
   "name": "python",
   "nbconvert_exporter": "python",
   "pygments_lexer": "ipython3",
   "version": "3.11.5"
  }
 },
 "nbformat": 4,
 "nbformat_minor": 2
}
