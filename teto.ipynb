{
 "cells": [
  {
   "cell_type": "code",
   "execution_count": 2,
   "metadata": {},
   "outputs": [],
   "source": [
    "from PIL import Image\n",
    "\n",
    "def print_downscaled_images(image_path, downscale_factors):\n",
    "    try:\n",
    "        img = Image.open(image_path)\n",
    "        original_width, original_height = img.size\n",
    "        \n",
    "        for factor in downscale_factors:\n",
    "            # Convert the image to grayscale\n",
    "            grayscale_img = img.convert(\"L\")\n",
    "            # Resize the grayscale image\n",
    "            downscaled_img = grayscale_img.resize((original_width // factor, original_height // factor))\n",
    "            save_path = \"./images/saved_image.png\"\n",
    "            downscaled_img.save(save_path)\n",
    "            downscaled_img.show()\n",
    "    except Exception as e:\n",
    "        print(\"An error occurred:\", e)\n",
    "\n",
    "image_path = \"./images/image_1.png\"\n",
    "downscale_factors = [4] \n",
    "print_downscaled_images(image_path, downscale_factors)"
   ]
  },
  {
   "cell_type": "code",
   "execution_count": 9,
   "metadata": {},
   "outputs": [
    {
     "name": "stdout",
     "output_type": "stream",
     "text": [
      "Images directory: .\\images\n",
      "Annotations directory: .\\json_labeling\n",
      "Trying to load JSON file: .\\json_labeling\\label_1.json\n",
      "Trying to load JSON file: .\\json_labeling\\label_10.json\n",
      "Trying to load JSON file: .\\json_labeling\\label_100.json\n",
      "Trying to load JSON file: .\\json_labeling\\label_11.json\n"
     ]
    },
    {
     "ename": "KeyboardInterrupt",
     "evalue": "",
     "output_type": "error",
     "traceback": [
      "\u001b[1;31m---------------------------------------------------------------------------\u001b[0m",
      "\u001b[1;31mKeyboardInterrupt\u001b[0m                         Traceback (most recent call last)",
      "Cell \u001b[1;32mIn[9], line 57\u001b[0m\n\u001b[0;32m     55\u001b[0m \u001b[38;5;66;03m# Usage\u001b[39;00m\n\u001b[0;32m     56\u001b[0m base_path \u001b[38;5;241m=\u001b[39m \u001b[38;5;124m'\u001b[39m\u001b[38;5;124m.\u001b[39m\u001b[38;5;124m'\u001b[39m  \u001b[38;5;66;03m# Current directory, adjust if your paths are different\u001b[39;00m\n\u001b[1;32m---> 57\u001b[0m images, annotations \u001b[38;5;241m=\u001b[39m load_images_and_annotations(base_path)\n",
      "Cell \u001b[1;32mIn[9], line 51\u001b[0m, in \u001b[0;36mload_images_and_annotations\u001b[1;34m(base_path)\u001b[0m\n\u001b[0;32m     48\u001b[0m         annotations\u001b[38;5;241m.\u001b[39mappend(annotation)\n\u001b[0;32m     50\u001b[0m         \u001b[38;5;66;03m# Show the image with bounding boxes to verify correctness\u001b[39;00m\n\u001b[1;32m---> 51\u001b[0m         image\u001b[38;5;241m.\u001b[39mshow()\n\u001b[0;32m     53\u001b[0m \u001b[38;5;28;01mreturn\u001b[39;00m images, annotations\n",
      "File \u001b[1;32mc:\\Users\\hanso\\anaconda3\\Lib\\site-packages\\PIL\\Image.py:2485\u001b[0m, in \u001b[0;36mImage.show\u001b[1;34m(self, title)\u001b[0m\n\u001b[0;32m   2465\u001b[0m \u001b[38;5;28;01mdef\u001b[39;00m \u001b[38;5;21mshow\u001b[39m(\u001b[38;5;28mself\u001b[39m, title\u001b[38;5;241m=\u001b[39m\u001b[38;5;28;01mNone\u001b[39;00m):\n\u001b[0;32m   2466\u001b[0m \u001b[38;5;250m    \u001b[39m\u001b[38;5;124;03m\"\"\"\u001b[39;00m\n\u001b[0;32m   2467\u001b[0m \u001b[38;5;124;03m    Displays this image. This method is mainly intended for debugging purposes.\u001b[39;00m\n\u001b[0;32m   2468\u001b[0m \n\u001b[1;32m   (...)\u001b[0m\n\u001b[0;32m   2482\u001b[0m \u001b[38;5;124;03m    :param title: Optional title to use for the image window, where possible.\u001b[39;00m\n\u001b[0;32m   2483\u001b[0m \u001b[38;5;124;03m    \"\"\"\u001b[39;00m\n\u001b[1;32m-> 2485\u001b[0m     _show(\u001b[38;5;28mself\u001b[39m, title\u001b[38;5;241m=\u001b[39mtitle)\n",
      "File \u001b[1;32mc:\\Users\\hanso\\anaconda3\\Lib\\site-packages\\PIL\\Image.py:3508\u001b[0m, in \u001b[0;36m_show\u001b[1;34m(image, **options)\u001b[0m\n\u001b[0;32m   3505\u001b[0m \u001b[38;5;28;01mdef\u001b[39;00m \u001b[38;5;21m_show\u001b[39m(image, \u001b[38;5;241m*\u001b[39m\u001b[38;5;241m*\u001b[39moptions):\n\u001b[0;32m   3506\u001b[0m     \u001b[38;5;28;01mfrom\u001b[39;00m \u001b[38;5;21;01m.\u001b[39;00m \u001b[38;5;28;01mimport\u001b[39;00m ImageShow\n\u001b[1;32m-> 3508\u001b[0m     ImageShow\u001b[38;5;241m.\u001b[39mshow(image, \u001b[38;5;241m*\u001b[39m\u001b[38;5;241m*\u001b[39moptions)\n",
      "File \u001b[1;32mc:\\Users\\hanso\\anaconda3\\Lib\\site-packages\\PIL\\ImageShow.py:62\u001b[0m, in \u001b[0;36mshow\u001b[1;34m(image, title, **options)\u001b[0m\n\u001b[0;32m     53\u001b[0m \u001b[38;5;250m\u001b[39m\u001b[38;5;124mr\u001b[39m\u001b[38;5;124;03m\"\"\"\u001b[39;00m\n\u001b[0;32m     54\u001b[0m \u001b[38;5;124;03mDisplay a given image.\u001b[39;00m\n\u001b[0;32m     55\u001b[0m \n\u001b[1;32m   (...)\u001b[0m\n\u001b[0;32m     59\u001b[0m \u001b[38;5;124;03m:returns: ``True`` if a suitable viewer was found, ``False`` otherwise.\u001b[39;00m\n\u001b[0;32m     60\u001b[0m \u001b[38;5;124;03m\"\"\"\u001b[39;00m\n\u001b[0;32m     61\u001b[0m \u001b[38;5;28;01mfor\u001b[39;00m viewer \u001b[38;5;129;01min\u001b[39;00m _viewers:\n\u001b[1;32m---> 62\u001b[0m     \u001b[38;5;28;01mif\u001b[39;00m viewer\u001b[38;5;241m.\u001b[39mshow(image, title\u001b[38;5;241m=\u001b[39mtitle, \u001b[38;5;241m*\u001b[39m\u001b[38;5;241m*\u001b[39moptions):\n\u001b[0;32m     63\u001b[0m         \u001b[38;5;28;01mreturn\u001b[39;00m \u001b[38;5;28;01mTrue\u001b[39;00m\n\u001b[0;32m     64\u001b[0m \u001b[38;5;28;01mreturn\u001b[39;00m \u001b[38;5;28;01mFalse\u001b[39;00m\n",
      "File \u001b[1;32mc:\\Users\\hanso\\anaconda3\\Lib\\site-packages\\PIL\\ImageShow.py:86\u001b[0m, in \u001b[0;36mViewer.show\u001b[1;34m(self, image, **options)\u001b[0m\n\u001b[0;32m     83\u001b[0m     \u001b[38;5;28;01mif\u001b[39;00m image\u001b[38;5;241m.\u001b[39mmode \u001b[38;5;241m!=\u001b[39m base:\n\u001b[0;32m     84\u001b[0m         image \u001b[38;5;241m=\u001b[39m image\u001b[38;5;241m.\u001b[39mconvert(base)\n\u001b[1;32m---> 86\u001b[0m \u001b[38;5;28;01mreturn\u001b[39;00m \u001b[38;5;28mself\u001b[39m\u001b[38;5;241m.\u001b[39mshow_image(image, \u001b[38;5;241m*\u001b[39m\u001b[38;5;241m*\u001b[39moptions)\n",
      "File \u001b[1;32mc:\\Users\\hanso\\anaconda3\\Lib\\site-packages\\PIL\\ImageShow.py:112\u001b[0m, in \u001b[0;36mViewer.show_image\u001b[1;34m(self, image, **options)\u001b[0m\n\u001b[0;32m    110\u001b[0m \u001b[38;5;28;01mdef\u001b[39;00m \u001b[38;5;21mshow_image\u001b[39m(\u001b[38;5;28mself\u001b[39m, image, \u001b[38;5;241m*\u001b[39m\u001b[38;5;241m*\u001b[39moptions):\n\u001b[0;32m    111\u001b[0m \u001b[38;5;250m    \u001b[39m\u001b[38;5;124;03m\"\"\"Display the given image.\"\"\"\u001b[39;00m\n\u001b[1;32m--> 112\u001b[0m     \u001b[38;5;28;01mreturn\u001b[39;00m \u001b[38;5;28mself\u001b[39m\u001b[38;5;241m.\u001b[39mshow_file(\u001b[38;5;28mself\u001b[39m\u001b[38;5;241m.\u001b[39msave_image(image), \u001b[38;5;241m*\u001b[39m\u001b[38;5;241m*\u001b[39moptions)\n",
      "File \u001b[1;32mc:\\Users\\hanso\\anaconda3\\Lib\\site-packages\\PIL\\ImageShow.py:129\u001b[0m, in \u001b[0;36mViewer.show_file\u001b[1;34m(self, path, **options)\u001b[0m\n\u001b[0;32m    127\u001b[0m         msg \u001b[38;5;241m=\u001b[39m \u001b[38;5;124m\"\u001b[39m\u001b[38;5;124mMissing required argument: \u001b[39m\u001b[38;5;124m'\u001b[39m\u001b[38;5;124mpath\u001b[39m\u001b[38;5;124m'\u001b[39m\u001b[38;5;124m\"\u001b[39m\n\u001b[0;32m    128\u001b[0m         \u001b[38;5;28;01mraise\u001b[39;00m \u001b[38;5;167;01mTypeError\u001b[39;00m(msg)\n\u001b[1;32m--> 129\u001b[0m os\u001b[38;5;241m.\u001b[39msystem(\u001b[38;5;28mself\u001b[39m\u001b[38;5;241m.\u001b[39mget_command(path, \u001b[38;5;241m*\u001b[39m\u001b[38;5;241m*\u001b[39moptions))  \u001b[38;5;66;03m# nosec\u001b[39;00m\n\u001b[0;32m    130\u001b[0m \u001b[38;5;28;01mreturn\u001b[39;00m \u001b[38;5;241m1\u001b[39m\n",
      "\u001b[1;31mKeyboardInterrupt\u001b[0m: "
     ]
    }
   ],
   "source": [
    "import os\n",
    "import json\n",
    "from PIL import Image, ImageDraw\n",
    "\n",
    "def load_images_and_annotations(base_path, num_images_to_show=5):\n",
    "    images = []\n",
    "    annotations = []\n",
    "    image_shown_count = 0  # Counter to track number of images shown\n",
    "\n",
    "    # Define paths to the images and annotations directories\n",
    "    images_dir = os.path.join(base_path, 'images')\n",
    "    annotations_dir = os.path.join(base_path, 'json_labeling')\n",
    "\n",
    "    print(f\"Images directory: {images_dir}\")  # Debug print\n",
    "    print(f\"Annotations directory: {annotations_dir}\")  # Debug print\n",
    "\n",
    "    # Loop through the sorted list of image files\n",
    "    for image_filename in sorted(os.listdir(images_dir)):\n",
    "        if image_filename.endswith('.png'):\n",
    "            # Construct full path to the image\n",
    "            image_path = os.path.join(images_dir, image_filename)\n",
    "            image = Image.open(image_path)\n",
    "\n",
    "            # Construct the corresponding JSON filename and path\n",
    "            json_filename = 'label_' + image_filename.split('_')[1].split('.')[0] + '.json'\n",
    "            annotation_path = os.path.join(annotations_dir, json_filename)\n",
    "            \n",
    "            print(f\"Trying to load JSON file: {annotation_path}\")  # Debug print\n",
    "\n",
    "            if not os.path.exists(annotation_path):\n",
    "                print(f\"File not found: {annotation_path}\")  # Debug if file is missing\n",
    "                continue\n",
    "\n",
    "            with open(annotation_path, 'r') as f:\n",
    "                annotation = json.load(f)\n",
    "\n",
    "            # Draw the bounding boxes centered on the coordinates\n",
    "            draw = ImageDraw.Draw(image)\n",
    "            for box in annotation['boxes']:\n",
    "                x_center = float(box['x'])\n",
    "                y_center = float(box['y'])\n",
    "                width = float(box['width'])\n",
    "                height = float(box['height'])\n",
    "                x1 = x_center - width / 2\n",
    "                y1 = y_center - height / 2\n",
    "                x2 = x_center + width / 2\n",
    "                y2 = y_center + height / 2\n",
    "                draw.rectangle([x1, y1, x2, y2], outline=\"red\", width=2)\n",
    "                draw.text((x1, y1), box['label'], fill=\"red\")\n",
    "\n",
    "            images.append(image)\n",
    "            annotations.append(annotation)\n",
    "\n",
    "            # Show the image with bounding boxes to verify correctness\n",
    "            if image_shown_count < num_images_to_show:\n",
    "                image.show()\n",
    "                image_shown_count += 1\n",
    "            else:\n",
    "                break  # Stop showing more images\n",
    "\n",
    "    return images, annotations\n",
    "\n",
    "# Usage\n",
    "base_path = '.'  # Adjust if your paths are different\n",
    "images, annotations = load_images_and_annotations(base_path)\n"
   ]
  }
 ],
 "metadata": {
  "kernelspec": {
   "display_name": "base",
   "language": "python",
   "name": "python3"
  },
  "language_info": {
   "codemirror_mode": {
    "name": "ipython",
    "version": 3
   },
   "file_extension": ".py",
   "mimetype": "text/x-python",
   "name": "python",
   "nbconvert_exporter": "python",
   "pygments_lexer": "ipython3",
   "version": "3.11.5"
  }
 },
 "nbformat": 4,
 "nbformat_minor": 2
}
